{
 "cells": [
  {
   "cell_type": "code",
   "execution_count": 12,
   "metadata": {},
   "outputs": [],
   "source": [
    "import pandas as pd\n",
    "import numpy as np\n",
    "import os\n",
    "\n",
    "RAW_DATA_PATH = '../data/raw'\n",
    "PROCESSED_DATA_PATH = '../data/processed'\n",
    "\n",
    "course_df = pd.read_csv(os.path.join(RAW_DATA_PATH, 'course.csv'))\n",
    "view_df = pd.read_csv(os.path.join(RAW_DATA_PATH, 'view.csv'))\n",
    "user_df = pd.read_csv(os.path.join(RAW_DATA_PATH, 'user.csv'))\n",
    "schedule_df = pd.read_csv(os.path.join(RAW_DATA_PATH, 'schedule.csv'))\n",
    "teacher_df = pd.read_csv(os.path.join(RAW_DATA_PATH, 'teacher.csv'))\n",
    "sub_df = pd.read_csv(os.path.join(RAW_DATA_PATH, 'sub.csv'))\n",
    "pred_df = pd.read_csv(os.path.join(PROCESSED_DATA_PATH, 'pred_df.csv'))\n"
   ]
  },
  {
   "cell_type": "code",
   "execution_count": 15,
   "metadata": {},
   "outputs": [],
   "source": [
    "df_dict = {'course_df': course_df,\n",
    "           'view_df': view_df,\n",
    "           'user_df': user_df,\n",
    "           'schedule_df': schedule_df,\n",
    "           'teacher_df': teacher_df,\n",
    "           'sub_df': sub_df,\n",
    "           'pred_df': pred_df}"
   ]
  },
  {
   "cell_type": "code",
   "execution_count": 17,
   "metadata": {},
   "outputs": [
    {
     "name": "stdout",
     "output_type": "stream",
     "text": [
      "course_df (166, 3)\n",
      "view_df (390762, 5)\n",
      "user_df (36440, 7)\n",
      "schedule_df (2759, 6)\n",
      "teacher_df (165, 4)\n",
      "sub_df (43629, 5)\n",
      "pred_df (14936, 12)\n"
     ]
    }
   ],
   "source": [
    "for k, v in df_dict.items():\n",
    "    print(k, v.shape)"
   ]
  },
  {
   "cell_type": "markdown",
   "metadata": {},
   "source": [
    "## Analytics\n",
    "\n",
    "- Premier biais: Le genre est corrélée avec certains cours aussi (aussi le top 10 des cours).\n",
    "- Deuxième biais: l'âge. L'âge est corrélée avec certains cours. Pourriez-vous trouver lesquels ? (Indice ce sont des cours parmi les 10 plus vus).\n",
    "- Troisième biais: la position géographique. Les parisiens et les provinciaux n'ont pas le même comportement en fonction des cours / des disciplines ?\n",
    "\n",
    "**>>>** la table view sera votre meilleure alliée dans tous les cas."
   ]
  },
  {
   "cell_type": "code",
   "execution_count": 41,
   "metadata": {},
   "outputs": [
    {
     "data": {
      "text/html": [
       "<div>\n",
       "<style scoped>\n",
       "    .dataframe tbody tr th:only-of-type {\n",
       "        vertical-align: middle;\n",
       "    }\n",
       "\n",
       "    .dataframe tbody tr th {\n",
       "        vertical-align: top;\n",
       "    }\n",
       "\n",
       "    .dataframe thead th {\n",
       "        text-align: right;\n",
       "    }\n",
       "</style>\n",
       "<table border=\"1\" class=\"dataframe\">\n",
       "  <thead>\n",
       "    <tr style=\"text-align: right;\">\n",
       "      <th></th>\n",
       "      <th>watched_seconds</th>\n",
       "    </tr>\n",
       "    <tr>\n",
       "      <th>course_title</th>\n",
       "      <th></th>\n",
       "    </tr>\n",
       "  </thead>\n",
       "  <tbody>\n",
       "    <tr>\n",
       "      <th>Cinématique</th>\n",
       "      <td>19313</td>\n",
       "    </tr>\n",
       "    <tr>\n",
       "      <th>Dynamique</th>\n",
       "      <td>16555</td>\n",
       "    </tr>\n",
       "    <tr>\n",
       "      <th>Mécanique</th>\n",
       "      <td>14369</td>\n",
       "    </tr>\n",
       "    <tr>\n",
       "      <th>Acoustique musicale</th>\n",
       "      <td>13230</td>\n",
       "    </tr>\n",
       "    <tr>\n",
       "      <th>Sociologie de l'art</th>\n",
       "      <td>12770</td>\n",
       "    </tr>\n",
       "    <tr>\n",
       "      <th>...</th>\n",
       "      <td>...</td>\n",
       "    </tr>\n",
       "    <tr>\n",
       "      <th>Philosophie de l'esprit</th>\n",
       "      <td>114</td>\n",
       "    </tr>\n",
       "    <tr>\n",
       "      <th>Méréologie</th>\n",
       "      <td>88</td>\n",
       "    </tr>\n",
       "    <tr>\n",
       "      <th>Économie de la santé</th>\n",
       "      <td>72</td>\n",
       "    </tr>\n",
       "    <tr>\n",
       "      <th>Logique</th>\n",
       "      <td>33</td>\n",
       "    </tr>\n",
       "    <tr>\n",
       "      <th>Mécanique statique</th>\n",
       "      <td>2</td>\n",
       "    </tr>\n",
       "  </tbody>\n",
       "</table>\n",
       "<p>120 rows × 1 columns</p>\n",
       "</div>"
      ],
      "text/plain": [
       "                         watched_seconds\n",
       "course_title                            \n",
       "Cinématique                        19313\n",
       "Dynamique                          16555\n",
       "Mécanique                          14369\n",
       "Acoustique musicale                13230\n",
       "Sociologie de l'art                12770\n",
       "...                                  ...\n",
       "Philosophie de l'esprit              114\n",
       "Méréologie                            88\n",
       "Économie de la santé                  72\n",
       "Logique                               33\n",
       "Mécanique statique                     2\n",
       "\n",
       "[120 rows x 1 columns]"
      ]
     },
     "execution_count": 41,
     "metadata": {},
     "output_type": "execute_result"
    }
   ],
   "source": [
    "big_df = (\n",
    "    view_df.merge(schedule_df, on='schedule_id', how='left')\n",
    "           .merge(course_df, on='course_id', how='left')\n",
    "           .merge(user_df, on='user_id', how='left')\n",
    "    )[['user_id', 'gender', 'watched_seconds', 'subject_name', 'course_title']]"
   ]
  },
  {
   "cell_type": "code",
   "execution_count": 53,
   "metadata": {},
   "outputs": [],
   "source": [
    "top_10_courses_count = (\n",
    "       big_df.groupby('course_title')\n",
    "             .agg({'watched_seconds': 'count'})\n",
    "             .sort_values(by='watched_seconds', ascending=False)\n",
    ")[:10].reset_index()['course_title'].to_list()"
   ]
  },
  {
   "cell_type": "code",
   "execution_count": 58,
   "metadata": {},
   "outputs": [],
   "source": [
    "top_10_courses_sum = (\n",
    "       big_df.groupby('course_title')\n",
    "             .agg({'watched_seconds': 'sum'})\n",
    "             .sort_values(by='watched_seconds', ascending=False)\n",
    ")[:10].reset_index()['course_title'].to_list()"
   ]
  },
  {
   "cell_type": "code",
   "execution_count": 55,
   "metadata": {},
   "outputs": [
    {
     "data": {
      "text/plain": [
       "['Cinématique',\n",
       " 'Acoustique musicale',\n",
       " 'Dynamique',\n",
       " 'Mécanique',\n",
       " 'Méthodes formelles',\n",
       " 'Aérostatique',\n",
       " 'Théorie des graphes',\n",
       " \"Sociologie de l'art\",\n",
       " 'Mécanique classique',\n",
       " 'Physique du solide']"
      ]
     },
     "execution_count": 55,
     "metadata": {},
     "output_type": "execute_result"
    }
   ],
   "source": [
    "top_10_courses_sum"
   ]
  },
  {
   "cell_type": "code",
   "execution_count": 59,
   "metadata": {},
   "outputs": [
    {
     "data": {
      "text/plain": [
       "['Cinématique',\n",
       " 'Dynamique',\n",
       " 'Mécanique',\n",
       " 'Acoustique musicale',\n",
       " \"Sociologie de l'art\",\n",
       " 'Méthodes formelles',\n",
       " 'Mécanique classique',\n",
       " 'Théorie des automates',\n",
       " 'Probabilités',\n",
       " 'Biophysique']"
      ]
     },
     "execution_count": 59,
     "metadata": {},
     "output_type": "execute_result"
    }
   ],
   "source": [
    "top_10_courses_count"
   ]
  },
  {
   "cell_type": "code",
   "execution_count": 69,
   "metadata": {},
   "outputs": [],
   "source": [
    "import seaborn as sns\n",
    "import matplotlib.pyplot as plt"
   ]
  },
  {
   "cell_type": "code",
   "execution_count": 70,
   "metadata": {},
   "outputs": [
    {
     "data": {
      "text/plain": [
       "([0, 1, 2, 3, 4, 5, 6, 7, 8, 9],\n",
       " [Text(0, 0, 'Méthodes formelles'),\n",
       "  Text(1, 0, 'Théorie des graphes'),\n",
       "  Text(2, 0, 'Mécanique'),\n",
       "  Text(3, 0, 'Aérostatique'),\n",
       "  Text(4, 0, 'Dynamique'),\n",
       "  Text(5, 0, \"Sociologie de l'art\"),\n",
       "  Text(6, 0, 'Mécanique classique'),\n",
       "  Text(7, 0, 'Cinématique'),\n",
       "  Text(8, 0, 'Physique du solide'),\n",
       "  Text(9, 0, 'Acoustique musicale')])"
      ]
     },
     "execution_count": 70,
     "metadata": {},
     "output_type": "execute_result"
    },
    {
     "data": {
      "image/png": "[encoded data removed]",
      "text/plain": [
       "<Figure size 640x480 with 1 Axes>"
      ]
     },
     "metadata": {},
     "output_type": "display_data"
    }
   ],
   "source": [
    "sns.barplot(data=big_df.loc[big_df['course_title'].isin(top_10_courses_sum)],\n",
    "              x='course_title', y='watched_seconds', hue='gender')\n",
    "plt.xticks(rotation=45)"
   ]
  }
 ],
 "metadata": {
  "kernelspec": {
   "display_name": "db",
   "language": "python",
   "name": "python3"
  },
  "language_info": {
   "codemirror_mode": {
    "name": "ipython",
    "version": 3
   },
   "file_extension": ".py",
   "mimetype": "text/x-python",
   "name": "python",
   "nbconvert_exporter": "python",
   "pygments_lexer": "ipython3",
   "version": "3.13.3"
  }
 },
 "nbformat": 4,
 "nbformat_minor": 2
}
